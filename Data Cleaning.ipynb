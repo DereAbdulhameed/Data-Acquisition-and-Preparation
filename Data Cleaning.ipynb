{
 "cells": [
  {
   "cell_type": "markdown",
   "id": "533e99c4",
   "metadata": {},
   "source": [
    "## Author: Dere, Abdulhameed Abiola"
   ]
  },
  {
   "cell_type": "markdown",
   "id": "03efec6b",
   "metadata": {},
   "source": [
    "## DATA CLEANING\n",
    "\n",
    "To build any machine learning model or work as a data scientist, it is important to understand how to clean a dataset. In more than 90% of cases, the data will be \"messy\", therefore this notebook aims to explore the common cleaning methods which you should be conversant and comfortable with after tis session."
   ]
  },
  {
   "cell_type": "markdown",
   "id": "c856a194",
   "metadata": {},
   "source": [
    "### For this session, we would make use of two datasets. "
   ]
  },
  {
   "cell_type": "code",
   "execution_count": 1,
   "id": "f7fba5f3",
   "metadata": {},
   "outputs": [],
   "source": [
    "# import the required libraries\n",
    "\n",
    "import pandas as pd\n",
    "import numpy as np"
   ]
  },
  {
   "cell_type": "code",
   "execution_count": 2,
   "id": "92cb76cf",
   "metadata": {},
   "outputs": [
    {
     "data": {
      "text/html": [
       "<div>\n",
       "<style scoped>\n",
       "    .dataframe tbody tr th:only-of-type {\n",
       "        vertical-align: middle;\n",
       "    }\n",
       "\n",
       "    .dataframe tbody tr th {\n",
       "        vertical-align: top;\n",
       "    }\n",
       "\n",
       "    .dataframe thead th {\n",
       "        text-align: right;\n",
       "    }\n",
       "</style>\n",
       "<table border=\"1\" class=\"dataframe\">\n",
       "  <thead>\n",
       "    <tr style=\"text-align: right;\">\n",
       "      <th></th>\n",
       "      <th>Loan_ID</th>\n",
       "      <th>Gender</th>\n",
       "      <th>Married</th>\n",
       "      <th>Dependents</th>\n",
       "      <th>Education</th>\n",
       "      <th>Self_Employed</th>\n",
       "      <th>ApplicantIncome</th>\n",
       "      <th>CoapplicantIncome</th>\n",
       "      <th>LoanAmount</th>\n",
       "      <th>Loan_Amount_Term</th>\n",
       "      <th>Credit_History</th>\n",
       "      <th>Property_Area</th>\n",
       "      <th>Loan_Status</th>\n",
       "    </tr>\n",
       "  </thead>\n",
       "  <tbody>\n",
       "    <tr>\n",
       "      <th>0</th>\n",
       "      <td>LP001002</td>\n",
       "      <td>Male</td>\n",
       "      <td>No</td>\n",
       "      <td>0</td>\n",
       "      <td>Graduate</td>\n",
       "      <td>No</td>\n",
       "      <td>5849</td>\n",
       "      <td>0.0</td>\n",
       "      <td>NaN</td>\n",
       "      <td>360.0</td>\n",
       "      <td>1.0</td>\n",
       "      <td>Urban</td>\n",
       "      <td>Y</td>\n",
       "    </tr>\n",
       "    <tr>\n",
       "      <th>1</th>\n",
       "      <td>LP001003</td>\n",
       "      <td>Male</td>\n",
       "      <td>Yes</td>\n",
       "      <td>1</td>\n",
       "      <td>Graduate</td>\n",
       "      <td>No</td>\n",
       "      <td>4583</td>\n",
       "      <td>1508.0</td>\n",
       "      <td>128.0</td>\n",
       "      <td>360.0</td>\n",
       "      <td>1.0</td>\n",
       "      <td>Rural</td>\n",
       "      <td>N</td>\n",
       "    </tr>\n",
       "    <tr>\n",
       "      <th>2</th>\n",
       "      <td>LP001005</td>\n",
       "      <td>Male</td>\n",
       "      <td>Yes</td>\n",
       "      <td>0</td>\n",
       "      <td>Graduate</td>\n",
       "      <td>Yes</td>\n",
       "      <td>3000</td>\n",
       "      <td>0.0</td>\n",
       "      <td>66.0</td>\n",
       "      <td>360.0</td>\n",
       "      <td>1.0</td>\n",
       "      <td>Urban</td>\n",
       "      <td>Y</td>\n",
       "    </tr>\n",
       "    <tr>\n",
       "      <th>3</th>\n",
       "      <td>LP001006</td>\n",
       "      <td>Male</td>\n",
       "      <td>Yes</td>\n",
       "      <td>0</td>\n",
       "      <td>Not Graduate</td>\n",
       "      <td>No</td>\n",
       "      <td>2583</td>\n",
       "      <td>2358.0</td>\n",
       "      <td>120.0</td>\n",
       "      <td>360.0</td>\n",
       "      <td>1.0</td>\n",
       "      <td>Urban</td>\n",
       "      <td>Y</td>\n",
       "    </tr>\n",
       "    <tr>\n",
       "      <th>4</th>\n",
       "      <td>LP001008</td>\n",
       "      <td>Male</td>\n",
       "      <td>No</td>\n",
       "      <td>0</td>\n",
       "      <td>Graduate</td>\n",
       "      <td>No</td>\n",
       "      <td>6000</td>\n",
       "      <td>0.0</td>\n",
       "      <td>141.0</td>\n",
       "      <td>360.0</td>\n",
       "      <td>1.0</td>\n",
       "      <td>Urban</td>\n",
       "      <td>Y</td>\n",
       "    </tr>\n",
       "  </tbody>\n",
       "</table>\n",
       "</div>"
      ],
      "text/plain": [
       "    Loan_ID Gender Married Dependents     Education Self_Employed  \\\n",
       "0  LP001002   Male      No          0      Graduate            No   \n",
       "1  LP001003   Male     Yes          1      Graduate            No   \n",
       "2  LP001005   Male     Yes          0      Graduate           Yes   \n",
       "3  LP001006   Male     Yes          0  Not Graduate            No   \n",
       "4  LP001008   Male      No          0      Graduate            No   \n",
       "\n",
       "   ApplicantIncome  CoapplicantIncome  LoanAmount  Loan_Amount_Term  \\\n",
       "0             5849                0.0         NaN             360.0   \n",
       "1             4583             1508.0       128.0             360.0   \n",
       "2             3000                0.0        66.0             360.0   \n",
       "3             2583             2358.0       120.0             360.0   \n",
       "4             6000                0.0       141.0             360.0   \n",
       "\n",
       "   Credit_History Property_Area Loan_Status  \n",
       "0             1.0         Urban           Y  \n",
       "1             1.0         Rural           N  \n",
       "2             1.0         Urban           Y  \n",
       "3             1.0         Urban           Y  \n",
       "4             1.0         Urban           Y  "
      ]
     },
     "execution_count": 2,
     "metadata": {},
     "output_type": "execute_result"
    }
   ],
   "source": [
    "# Read in the required dataset\n",
    "\n",
    "data = pd.read_csv('Loan prediction train.csv')\n",
    "\n",
    "data.head()"
   ]
  },
  {
   "cell_type": "code",
   "execution_count": 3,
   "id": "c8a83e6f",
   "metadata": {},
   "outputs": [
    {
     "data": {
      "text/html": [
       "<div>\n",
       "<style scoped>\n",
       "    .dataframe tbody tr th:only-of-type {\n",
       "        vertical-align: middle;\n",
       "    }\n",
       "\n",
       "    .dataframe tbody tr th {\n",
       "        vertical-align: top;\n",
       "    }\n",
       "\n",
       "    .dataframe thead th {\n",
       "        text-align: right;\n",
       "    }\n",
       "</style>\n",
       "<table border=\"1\" class=\"dataframe\">\n",
       "  <thead>\n",
       "    <tr style=\"text-align: right;\">\n",
       "      <th></th>\n",
       "      <th>Item_Identifier</th>\n",
       "      <th>Item_Weight</th>\n",
       "      <th>Item_Fat_Content</th>\n",
       "      <th>Item_Visibility</th>\n",
       "      <th>Item_Type</th>\n",
       "      <th>Item_MRP</th>\n",
       "      <th>Outlet_Identifier</th>\n",
       "      <th>Outlet_Establishment_Year</th>\n",
       "      <th>Outlet_Size</th>\n",
       "      <th>Outlet_Location_Type</th>\n",
       "      <th>Outlet_Type</th>\n",
       "      <th>Item_Outlet_Sales</th>\n",
       "    </tr>\n",
       "  </thead>\n",
       "  <tbody>\n",
       "    <tr>\n",
       "      <th>0</th>\n",
       "      <td>FDA15</td>\n",
       "      <td>9.30</td>\n",
       "      <td>Low Fat</td>\n",
       "      <td>0.016047</td>\n",
       "      <td>Dairy</td>\n",
       "      <td>249.8092</td>\n",
       "      <td>OUT049</td>\n",
       "      <td>1999</td>\n",
       "      <td>Medium</td>\n",
       "      <td>Tier 1</td>\n",
       "      <td>Supermarket Type1</td>\n",
       "      <td>3735.1380</td>\n",
       "    </tr>\n",
       "    <tr>\n",
       "      <th>1</th>\n",
       "      <td>DRC01</td>\n",
       "      <td>5.92</td>\n",
       "      <td>Regular</td>\n",
       "      <td>0.019278</td>\n",
       "      <td>Soft Drinks</td>\n",
       "      <td>48.2692</td>\n",
       "      <td>OUT018</td>\n",
       "      <td>2009</td>\n",
       "      <td>Medium</td>\n",
       "      <td>Tier 3</td>\n",
       "      <td>Supermarket Type2</td>\n",
       "      <td>443.4228</td>\n",
       "    </tr>\n",
       "    <tr>\n",
       "      <th>2</th>\n",
       "      <td>FDN15</td>\n",
       "      <td>17.50</td>\n",
       "      <td>Low Fat</td>\n",
       "      <td>0.016760</td>\n",
       "      <td>Meat</td>\n",
       "      <td>141.6180</td>\n",
       "      <td>OUT049</td>\n",
       "      <td>1999</td>\n",
       "      <td>Medium</td>\n",
       "      <td>Tier 1</td>\n",
       "      <td>Supermarket Type1</td>\n",
       "      <td>2097.2700</td>\n",
       "    </tr>\n",
       "    <tr>\n",
       "      <th>3</th>\n",
       "      <td>FDX07</td>\n",
       "      <td>19.20</td>\n",
       "      <td>Regular</td>\n",
       "      <td>0.000000</td>\n",
       "      <td>Fruits and Vegetables</td>\n",
       "      <td>182.0950</td>\n",
       "      <td>OUT010</td>\n",
       "      <td>1998</td>\n",
       "      <td>NaN</td>\n",
       "      <td>Tier 3</td>\n",
       "      <td>Grocery Store</td>\n",
       "      <td>732.3800</td>\n",
       "    </tr>\n",
       "    <tr>\n",
       "      <th>4</th>\n",
       "      <td>NCD19</td>\n",
       "      <td>8.93</td>\n",
       "      <td>Low Fat</td>\n",
       "      <td>0.000000</td>\n",
       "      <td>Household</td>\n",
       "      <td>53.8614</td>\n",
       "      <td>OUT013</td>\n",
       "      <td>1987</td>\n",
       "      <td>High</td>\n",
       "      <td>Tier 3</td>\n",
       "      <td>Supermarket Type1</td>\n",
       "      <td>994.7052</td>\n",
       "    </tr>\n",
       "  </tbody>\n",
       "</table>\n",
       "</div>"
      ],
      "text/plain": [
       "  Item_Identifier  Item_Weight Item_Fat_Content  Item_Visibility  \\\n",
       "0           FDA15         9.30          Low Fat         0.016047   \n",
       "1           DRC01         5.92          Regular         0.019278   \n",
       "2           FDN15        17.50          Low Fat         0.016760   \n",
       "3           FDX07        19.20          Regular         0.000000   \n",
       "4           NCD19         8.93          Low Fat         0.000000   \n",
       "\n",
       "               Item_Type  Item_MRP Outlet_Identifier  \\\n",
       "0                  Dairy  249.8092            OUT049   \n",
       "1            Soft Drinks   48.2692            OUT018   \n",
       "2                   Meat  141.6180            OUT049   \n",
       "3  Fruits and Vegetables  182.0950            OUT010   \n",
       "4              Household   53.8614            OUT013   \n",
       "\n",
       "   Outlet_Establishment_Year Outlet_Size Outlet_Location_Type  \\\n",
       "0                       1999      Medium               Tier 1   \n",
       "1                       2009      Medium               Tier 3   \n",
       "2                       1999      Medium               Tier 1   \n",
       "3                       1998         NaN               Tier 3   \n",
       "4                       1987        High               Tier 3   \n",
       "\n",
       "         Outlet_Type  Item_Outlet_Sales  \n",
       "0  Supermarket Type1          3735.1380  \n",
       "1  Supermarket Type2           443.4228  \n",
       "2  Supermarket Type1          2097.2700  \n",
       "3      Grocery Store           732.3800  \n",
       "4  Supermarket Type1           994.7052  "
      ]
     },
     "execution_count": 3,
     "metadata": {},
     "output_type": "execute_result"
    }
   ],
   "source": [
    "df = pd.read_csv('Big Mart Sales Prediction Train.csv')\n",
    "\n",
    "df.head()\n",
    "# df.info()"
   ]
  },
  {
   "cell_type": "code",
   "execution_count": 4,
   "id": "9b5201a2",
   "metadata": {},
   "outputs": [
    {
     "ename": "TypeError",
     "evalue": "'tuple' object is not callable",
     "output_type": "error",
     "traceback": [
      "\u001b[1;31m---------------------------------------------------------------------------\u001b[0m",
      "\u001b[1;31mTypeError\u001b[0m                                 Traceback (most recent call last)",
      "\u001b[1;32m<ipython-input-4-7a0e57e4da9a>\u001b[0m in \u001b[0;36m<module>\u001b[1;34m\u001b[0m\n\u001b[0;32m      1\u001b[0m \u001b[1;31m# Check the number of rows and columns\u001b[0m\u001b[1;33m\u001b[0m\u001b[1;33m\u001b[0m\u001b[1;33m\u001b[0m\u001b[0m\n\u001b[1;32m----> 2\u001b[1;33m \u001b[0mdata\u001b[0m\u001b[1;33m.\u001b[0m\u001b[0mshape\u001b[0m\u001b[1;33m(\u001b[0m\u001b[1;33m)\u001b[0m\u001b[1;33m\u001b[0m\u001b[1;33m\u001b[0m\u001b[0m\n\u001b[0m",
      "\u001b[1;31mTypeError\u001b[0m: 'tuple' object is not callable"
     ]
    }
   ],
   "source": [
    "# Check the number of rows and columns\n",
    "data.shape()"
   ]
  },
  {
   "cell_type": "code",
   "execution_count": null,
   "id": "92ae1acf",
   "metadata": {},
   "outputs": [],
   "source": [
    "# Check additional information about the dataframe\n",
    "data.info()"
   ]
  },
  {
   "cell_type": "markdown",
   "id": "d8706fcd",
   "metadata": {},
   "source": [
    "## DESCRIBING/SORTING DATA\n",
    "\n",
    "Describe function is used to carry out some statistical functions on the dataframe. Describe functions works only on the integer and float values BUT does not work on the object values i.e. string values "
   ]
  },
  {
   "cell_type": "code",
   "execution_count": null,
   "id": "408ed6fc",
   "metadata": {
    "scrolled": false
   },
   "outputs": [],
   "source": [
    "# data.describe() method gives an idea of the nature of the data that we are working with.\n",
    "# It also makes it easy to draw out inferences from the dataset\n",
    "# This also gives an idea of the presence of an outlier or not, which can later be confirmed by visualization\n",
    "data.describe()"
   ]
  },
  {
   "cell_type": "code",
   "execution_count": null,
   "id": "3b8d07a8",
   "metadata": {},
   "outputs": [],
   "source": [
    "# Statsitical inference of the categorical Dataset\n",
    "data.describe(include = 'object')"
   ]
  },
  {
   "cell_type": "markdown",
   "id": "371cd3e5",
   "metadata": {},
   "source": [
    "## SORT FUNCTION\n",
    "\n",
    "This is used to arrange the data in a dataframe in a chronological order either in an ascending or descending format."
   ]
  },
  {
   "cell_type": "code",
   "execution_count": null,
   "id": "cb774957",
   "metadata": {
    "scrolled": true
   },
   "outputs": [],
   "source": [
    "# This sort the dataframe based on the Educational status, i.e all graduates come first before the non-graduates.\n",
    "data.sort_values(\"Education\")\n",
    "# data.sort_values('ApplicantIncome', ascending = False)"
   ]
  },
  {
   "cell_type": "markdown",
   "id": "287ca9db",
   "metadata": {},
   "source": [
    "## MAKING CHANGES TO THE DATAFRAME"
   ]
  },
  {
   "cell_type": "markdown",
   "id": "1811b2a5",
   "metadata": {},
   "source": [
    "### Adding a new column to the dataframe\n",
    "Assuming we decide to get the difference between the income of the applicant and the coapplicant\n",
    "And we want to put that into a new column"
   ]
  },
  {
   "cell_type": "code",
   "execution_count": null,
   "id": "66576860",
   "metadata": {},
   "outputs": [],
   "source": [
    "# Instatiate a new column\n",
    "data['IncomeDifference'] = data['ApplicantIncome'] - data['CoapplicantIncome']"
   ]
  },
  {
   "cell_type": "code",
   "execution_count": null,
   "id": "33b13a97",
   "metadata": {},
   "outputs": [],
   "source": [
    "data.head()"
   ]
  },
  {
   "cell_type": "markdown",
   "id": "c0b70f45",
   "metadata": {},
   "source": [
    "### Dropping an existing column from the dataframe"
   ]
  },
  {
   "cell_type": "code",
   "execution_count": null,
   "id": "a3695f17",
   "metadata": {},
   "outputs": [],
   "source": [
    "data = data.drop(columns = 'IncomeDifference')\n",
    "# data = data.drop('IncomeDifference', axis = 1)  This is another method of dropping an existing column\n",
    "data.head(2)"
   ]
  },
  {
   "cell_type": "markdown",
   "id": "195c8dba",
   "metadata": {},
   "source": [
    "## FILTERING DATA\n",
    "\n",
    "This allows pandas to filter through the entire dataframe in search for specific rows/columns and further reduces the dataframe size"
   ]
  },
  {
   "cell_type": "code",
   "execution_count": null,
   "id": "3205f3be",
   "metadata": {},
   "outputs": [],
   "source": [
    "data.loc[(data['Education'] == 'Graduate') & (data['Dependents'] == '0')]"
   ]
  },
  {
   "cell_type": "code",
   "execution_count": null,
   "id": "670db27f",
   "metadata": {},
   "outputs": [],
   "source": [
    "# To shrinken the size of a dataframe based on name tags\n",
    "\n",
    "df.loc[df['Item_Type'].str.contains('Meat')]"
   ]
  },
  {
   "cell_type": "markdown",
   "id": "9314a4ee",
   "metadata": {},
   "source": [
    "## AGGREGATE STATISTICS (GROUPBY)\n",
    "\n",
    "This allows pandas to be able to perform a lot more statistical operations with datadrame set"
   ]
  },
  {
   "cell_type": "code",
   "execution_count": null,
   "id": "d7fa39a9",
   "metadata": {},
   "outputs": [],
   "source": [
    "df.groupby(['Item_Fat_Content']).mean()"
   ]
  },
  {
   "cell_type": "code",
   "execution_count": null,
   "id": "85dae4aa",
   "metadata": {},
   "outputs": [],
   "source": [
    "df.groupby(['Item_Fat_Content']).mean().sort_values('Outlet_Establishment_Year')"
   ]
  },
  {
   "cell_type": "code",
   "execution_count": null,
   "id": "367af4c6",
   "metadata": {},
   "outputs": [],
   "source": [
    "df.groupby(['Item_Type']).mean().sort_values('Item_Outlet_Sales', ascending= False)"
   ]
  },
  {
   "cell_type": "markdown",
   "id": "a90826ee",
   "metadata": {},
   "source": [
    "## CHECKING FOR DUPLICATE ROWS/COLUMNS"
   ]
  },
  {
   "cell_type": "code",
   "execution_count": null,
   "id": "6f59934f",
   "metadata": {},
   "outputs": [],
   "source": [
    "duplicated = df.duplicated().sum()\n",
    "if duplicated:\n",
    "    print('Duplicate rows in Dataset are {}'.format(duplicate))\n",
    "else:\n",
    "    print('Dataset contains no duplicate values')"
   ]
  },
  {
   "cell_type": "code",
   "execution_count": null,
   "id": "99dbae4f",
   "metadata": {},
   "outputs": [],
   "source": [
    "# To drop duplicates, the below function is used:\n",
    "\n",
    "# df = df.drop_duplicates()"
   ]
  },
  {
   "cell_type": "markdown",
   "id": "8aa554e0",
   "metadata": {},
   "source": [
    "## HANDLING MISSING DATA"
   ]
  },
  {
   "cell_type": "markdown",
   "id": "2ec42731",
   "metadata": {},
   "source": [
    "For missing values, there are 3 ways to deal with it\n",
    "1. Leave it as it is\n",
    "2. Drop them\n",
    "3. Fill the missing values "
   ]
  },
  {
   "cell_type": "code",
   "execution_count": null,
   "id": "a35f570e",
   "metadata": {},
   "outputs": [],
   "source": [
    "# Checking for missing values\n",
    "df.isnull().sum()"
   ]
  },
  {
   "cell_type": "code",
   "execution_count": null,
   "id": "8762f820",
   "metadata": {},
   "outputs": [],
   "source": [
    "# This function returns False Statement if at least one column has a missing value\n",
    "df.notnull().all().all()"
   ]
  },
  {
   "cell_type": "markdown",
   "id": "daf87292",
   "metadata": {},
   "source": [
    "### Filling a missing value\n",
    "\n",
    "An empty dataframe usually represented by Nan can either be dropped if it is not significant to the dataframe.\n",
    "If it is significant or the missing values are little, then, it has to be filled. the appropriate method of filling depends on the nature of the column that contains the empty string.\n",
    "\n",
    "Categorical Dataset = Fill with mode (i.e the value that appears most)\n",
    "Numerical/Float dataset = fill with mean or median\n",
    "\n",
    "if skewed, fill with median\n",
    "if not skewed, fill with mean or median"
   ]
  },
  {
   "cell_type": "code",
   "execution_count": null,
   "id": "128c82e5",
   "metadata": {},
   "outputs": [],
   "source": [
    "df.info()"
   ]
  },
  {
   "cell_type": "code",
   "execution_count": null,
   "id": "ff0cef93",
   "metadata": {},
   "outputs": [],
   "source": [
    "# Dropping a particular column\n",
    "\n",
    "new_df = df.drop('Outlet_Size', axis=1)\n",
    "\n",
    "new_df.info()"
   ]
  },
  {
   "cell_type": "code",
   "execution_count": null,
   "id": "2ca30692",
   "metadata": {},
   "outputs": [],
   "source": [
    "# Filling another column\n",
    "# It is evident now that there is no empty column anymore\n",
    "\n",
    "new_df2 = new_df.fillna(df.mean())\n",
    "\n",
    "new_df2.info()"
   ]
  },
  {
   "cell_type": "code",
   "execution_count": null,
   "id": "1cad0dbe",
   "metadata": {},
   "outputs": [],
   "source": [
    "new_df2.notnull().all().all()"
   ]
  }
 ],
 "metadata": {
  "kernelspec": {
   "display_name": "Python 3",
   "language": "python",
   "name": "python3"
  },
  "language_info": {
   "codemirror_mode": {
    "name": "ipython",
    "version": 3
   },
   "file_extension": ".py",
   "mimetype": "text/x-python",
   "name": "python",
   "nbconvert_exporter": "python",
   "pygments_lexer": "ipython3",
   "version": "3.8.8"
  }
 },
 "nbformat": 4,
 "nbformat_minor": 5
}
